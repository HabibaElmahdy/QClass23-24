{
  "cells": [
    {
      "cell_type": "markdown",
      "metadata": {
        "id": "view-in-github",
        "colab_type": "text"
      },
      "source": [
        "<a href=\"https://colab.research.google.com/github/HabibaElmahdy/QClass23-24/blob/main/QB_C1_Q04_Qiskit_installation_and_test.ipynb\" target=\"_parent\"><img src=\"https://colab.research.google.com/assets/colab-badge.svg\" alt=\"Open In Colab\"/></a>"
      ]
    },
    {
      "cell_type": "markdown",
      "metadata": {
        "id": "NUcLYTc8w0rx"
      },
      "source": [
        "<a href=\"https://qworld.net\" target=\"_blank\" align=\"left\"><img src=\"https://gitlab.com/qworld/qeducation/qbook101/raw/main/qworld/images/header.jpg\" align=\"left\"></a>\n",
        "$ \\newcommand{\\bra}[1]{\\langle #1|} $\n",
        "$ \\newcommand{\\ket}[1]{|#1\\rangle} $\n",
        "$ \\newcommand{\\braket}[2]{\\langle #1|#2\\rangle} $\n",
        "$ \\newcommand{\\dot}[2]{ #1 \\cdot #2} $\n",
        "$ \\newcommand{\\biginner}[2]{\\left\\langle #1,#2\\right\\rangle} $\n",
        "$ \\newcommand{\\mymatrix}[2]{\\left( \\begin{array}{#1} #2\\end{array} \\right)} $\n",
        "$ \\newcommand{\\myvector}[1]{\\mymatrix{c}{#1}} $\n",
        "$ \\newcommand{\\myrvector}[1]{\\mymatrix{r}{#1}} $\n",
        "$ \\newcommand{\\mypar}[1]{\\left( #1 \\right)} $\n",
        "$ \\newcommand{\\mybigpar}[1]{ \\Big( #1 \\Big)} $\n",
        "$ \\newcommand{\\sqrttwo}{\\frac{1}{\\sqrt{2}}} $\n",
        "$ \\newcommand{\\dsqrttwo}{\\dfrac{1}{\\sqrt{2}}} $\n",
        "$ \\newcommand{\\onehalf}{\\frac{1}{2}} $\n",
        "$ \\newcommand{\\donehalf}{\\dfrac{1}{2}} $\n",
        "$ \\newcommand{\\hadamard}{ \\mymatrix{rr}{ \\sqrttwo & \\sqrttwo \\\\ \\sqrttwo & -\\sqrttwo }} $\n",
        "$ \\newcommand{\\vzero}{\\myvector{1\\\\0}} $\n",
        "$ \\newcommand{\\vone}{\\myvector{0\\\\1}} $\n",
        "$ \\newcommand{\\stateplus}{\\myvector{ \\sqrttwo \\\\  \\sqrttwo } } $\n",
        "$ \\newcommand{\\stateminus}{ \\myrvector{ \\sqrttwo \\\\ -\\sqrttwo } } $\n",
        "$ \\newcommand{\\myarray}[2]{ \\begin{array}{#1}#2\\end{array}} $\n",
        "$ \\newcommand{\\X}{ \\mymatrix{cc}{0 & 1 \\\\ 1 & 0}  } $\n",
        "$ \\newcommand{\\I}{ \\mymatrix{rr}{1 & 0 \\\\ 0 & 1}  } $\n",
        "$ \\newcommand{\\Z}{ \\mymatrix{rr}{1 & 0 \\\\ 0 & -1}  } $\n",
        "$ \\newcommand{\\Htwo}{ \\mymatrix{rrrr}{ \\frac{1}{2} & \\frac{1}{2} & \\frac{1}{2} & \\frac{1}{2} \\\\ \\frac{1}{2} & -\\frac{1}{2} & \\frac{1}{2} & -\\frac{1}{2} \\\\ \\frac{1}{2} & \\frac{1}{2} & -\\frac{1}{2} & -\\frac{1}{2} \\\\ \\frac{1}{2} & -\\frac{1}{2} & -\\frac{1}{2} & \\frac{1}{2} } } $\n",
        "$ \\newcommand{\\CNOT}{ \\mymatrix{cccc}{1 & 0 & 0 & 0 \\\\ 0 & 1 & 0 & 0 \\\\ 0 & 0 & 0 & 1 \\\\ 0 & 0 & 1 & 0} } $\n",
        "$ \\newcommand{\\norm}[1]{ \\left\\lVert #1 \\right\\rVert } $\n",
        "$ \\newcommand{\\pstate}[1]{ \\lceil \\mspace{-1mu} #1 \\mspace{-1.5mu} \\rfloor } $\n",
        "$ \\newcommand{\\greenbit}[1] {\\mathbf{{\\color{green}#1}}} $\n",
        "$ \\newcommand{\\bluebit}[1] {\\mathbf{{\\color{blue}#1}}} $\n",
        "$ \\newcommand{\\redbit}[1] {\\mathbf{{\\color{red}#1}}} $\n",
        "$ \\newcommand{\\brownbit}[1] {\\mathbf{{\\color{brown}#1}}} $\n",
        "$ \\newcommand{\\blackbit}[1] {\\mathbf{{\\color{black}#1}}} $"
      ]
    },
    {
      "cell_type": "markdown",
      "metadata": {
        "id": "QScRcqE_w0rz"
      },
      "source": [
        "_prepared by Abuzer Yakaryilmaz_"
      ]
    },
    {
      "cell_type": "markdown",
      "metadata": {
        "id": "U4zWsdRNw0rz"
      },
      "source": [
        "<font size=\"28px\" style=\"font-size:28px;\" align=\"left\"><b> Qiskit installation and test </b></font>\n",
        "<br><br>"
      ]
    },
    {
      "cell_type": "markdown",
      "metadata": {
        "id": "uZMrDiMFw0rz"
      },
      "source": [
        "- [Check your system](#check)\n",
        "- [Install qiskit](#install)\n",
        "- [Tips](#tips)\n",
        "- [Execute an example quantum program](#test)\n",
        "- [Complete test](#complete)"
      ]
    },
    {
      "cell_type": "markdown",
      "metadata": {
        "id": "T3hj_feaw0rz"
      },
      "source": [
        "<hr id=\"check\">\n",
        "\n",
        "### Check your system\n",
        "\n",
        "Check your system, if Qiskit has already been installed:"
      ]
    },
    {
      "cell_type": "code",
      "execution_count": 1,
      "metadata": {
        "id": "tfVVKznbw0rz",
        "colab": {
          "base_uri": "https://localhost:8080/"
        },
        "outputId": "30478510-23a8-4792-8f8a-0f000c4984c3"
      },
      "outputs": [
        {
          "output_type": "error",
          "ename": "ModuleNotFoundError",
          "evalue": "ignored",
          "traceback": [
            "\u001b[0;31m---------------------------------------------------------------------------\u001b[0m",
            "\u001b[0;31mModuleNotFoundError\u001b[0m                       Traceback (most recent call last)",
            "\u001b[0;32m<ipython-input-1-e8d9a1b10292>\u001b[0m in \u001b[0;36m<cell line: 1>\u001b[0;34m()\u001b[0m\n\u001b[0;32m----> 1\u001b[0;31m \u001b[0;32mimport\u001b[0m \u001b[0mqiskit\u001b[0m\u001b[0;34m\u001b[0m\u001b[0;34m\u001b[0m\u001b[0m\n\u001b[0m\u001b[1;32m      2\u001b[0m \u001b[0mversions\u001b[0m \u001b[0;34m=\u001b[0m \u001b[0mqiskit\u001b[0m\u001b[0;34m.\u001b[0m\u001b[0m__qiskit_version__\u001b[0m\u001b[0;34m\u001b[0m\u001b[0;34m\u001b[0m\u001b[0m\n\u001b[1;32m      3\u001b[0m \u001b[0mprint\u001b[0m\u001b[0;34m(\u001b[0m\u001b[0;34m\"The version of Qiskit is\"\u001b[0m\u001b[0;34m,\u001b[0m\u001b[0mversions\u001b[0m\u001b[0;34m[\u001b[0m\u001b[0;34m'qiskit'\u001b[0m\u001b[0;34m]\u001b[0m\u001b[0;34m)\u001b[0m\u001b[0;34m\u001b[0m\u001b[0;34m\u001b[0m\u001b[0m\n\u001b[1;32m      4\u001b[0m \u001b[0mprint\u001b[0m\u001b[0;34m(\u001b[0m\u001b[0;34m)\u001b[0m\u001b[0;34m\u001b[0m\u001b[0;34m\u001b[0m\u001b[0m\n\u001b[1;32m      5\u001b[0m \u001b[0mprint\u001b[0m\u001b[0;34m(\u001b[0m\u001b[0;34m\"The version of each component:\"\u001b[0m\u001b[0;34m)\u001b[0m\u001b[0;34m\u001b[0m\u001b[0;34m\u001b[0m\u001b[0m\n",
            "\u001b[0;31mModuleNotFoundError\u001b[0m: No module named 'qiskit'",
            "",
            "\u001b[0;31m---------------------------------------------------------------------------\u001b[0;32m\nNOTE: If your import is failing due to a missing package, you can\nmanually install dependencies using either !pip or !apt.\n\nTo view examples of installing some common dependencies, click the\n\"Open Examples\" button below.\n\u001b[0;31m---------------------------------------------------------------------------\u001b[0m\n"
          ],
          "errorDetails": {
            "actions": [
              {
                "action": "open_url",
                "actionText": "Open Examples",
                "url": "/notebooks/snippets/importing_libraries.ipynb"
              }
            ]
          }
        }
      ],
      "source": [
        "import qiskit\n",
        "versions = qiskit.__qiskit_version__\n",
        "print(\"The version of Qiskit is\",versions['qiskit'])\n",
        "print()\n",
        "print(\"The version of each component:\")\n",
        "for key in versions:\n",
        "    print(key,\"->\",versions[key])"
      ]
    },
    {
      "cell_type": "markdown",
      "metadata": {
        "id": "UxDF1ZVxw0r0"
      },
      "source": [
        "**You should be able to see the version number of any library that is already installed in your system.**"
      ]
    },
    {
      "cell_type": "markdown",
      "metadata": {
        "id": "Z92Ajqwew0r0"
      },
      "source": [
        "<hr id=\"install\">\n",
        "\n",
        "### Install qiskit\n",
        "\n",
        "(If you are an experienced user, visit this link: https://qiskit.org/documentation/install.html)\n",
        "\n",
        "You can install Qiskit by executing the following cells:"
      ]
    },
    {
      "cell_type": "code",
      "execution_count": 1,
      "metadata": {
        "id": "Q51AZrarw0r0",
        "colab": {
          "base_uri": "https://localhost:8080/"
        },
        "outputId": "1b736ce6-a102-4e00-e544-31cd298aa6e7"
      },
      "outputs": [
        {
          "output_type": "stream",
          "name": "stdout",
          "text": [
            "Collecting qiskit[visualization]\n",
            "  Using cached qiskit-0.44.2-py3-none-any.whl (8.2 kB)\n",
            "Collecting qiskit-terra==0.25.2.1 (from qiskit[visualization])\n",
            "  Using cached qiskit_terra-0.25.2.1-cp38-abi3-manylinux_2_17_x86_64.manylinux2014_x86_64.whl (6.2 MB)\n",
            "Requirement already satisfied: rustworkx>=0.13.0 in /root/.local/lib/python3.10/site-packages (from qiskit-terra==0.25.2.1->qiskit[visualization]) (0.13.2)\n",
            "Requirement already satisfied: numpy>=1.17 in /usr/local/lib/python3.10/dist-packages (from qiskit-terra==0.25.2.1->qiskit[visualization]) (1.23.5)\n",
            "Requirement already satisfied: ply>=3.10 in /root/.local/lib/python3.10/site-packages (from qiskit-terra==0.25.2.1->qiskit[visualization]) (3.11)\n",
            "Requirement already satisfied: psutil>=5 in /usr/local/lib/python3.10/dist-packages (from qiskit-terra==0.25.2.1->qiskit[visualization]) (5.9.5)\n",
            "Requirement already satisfied: scipy>=1.5 in /usr/local/lib/python3.10/dist-packages (from qiskit-terra==0.25.2.1->qiskit[visualization]) (1.11.3)\n",
            "Requirement already satisfied: sympy>=1.3 in /usr/local/lib/python3.10/dist-packages (from qiskit-terra==0.25.2.1->qiskit[visualization]) (1.12)\n",
            "Collecting dill>=0.3 (from qiskit-terra==0.25.2.1->qiskit[visualization])\n",
            "  Using cached dill-0.3.7-py3-none-any.whl (115 kB)\n",
            "Requirement already satisfied: python-dateutil>=2.8.0 in /usr/local/lib/python3.10/dist-packages (from qiskit-terra==0.25.2.1->qiskit[visualization]) (2.8.2)\n",
            "Collecting stevedore>=3.0.0 (from qiskit-terra==0.25.2.1->qiskit[visualization])\n",
            "  Using cached stevedore-5.1.0-py3-none-any.whl (49 kB)\n",
            "Requirement already satisfied: symengine<0.10,>=0.9 in /root/.local/lib/python3.10/site-packages (from qiskit-terra==0.25.2.1->qiskit[visualization]) (0.9.2)\n",
            "Requirement already satisfied: typing-extensions in /usr/local/lib/python3.10/dist-packages (from qiskit-terra==0.25.2.1->qiskit[visualization]) (4.5.0)\n",
            "Requirement already satisfied: matplotlib>=3.3 in /usr/local/lib/python3.10/dist-packages (from qiskit-terra==0.25.2.1->qiskit[visualization]) (3.7.1)\n",
            "Requirement already satisfied: ipywidgets>=7.3.0 in /usr/local/lib/python3.10/dist-packages (from qiskit-terra==0.25.2.1->qiskit[visualization]) (7.7.1)\n",
            "Requirement already satisfied: pydot in /usr/local/lib/python3.10/dist-packages (from qiskit-terra==0.25.2.1->qiskit[visualization]) (1.4.2)\n",
            "Requirement already satisfied: pillow>=4.2.1 in /usr/local/lib/python3.10/dist-packages (from qiskit-terra==0.25.2.1->qiskit[visualization]) (9.4.0)\n",
            "Requirement already satisfied: pylatexenc>=1.4 in /root/.local/lib/python3.10/site-packages (from qiskit-terra==0.25.2.1->qiskit[visualization]) (2.10)\n",
            "Requirement already satisfied: seaborn>=0.9.0 in /usr/local/lib/python3.10/dist-packages (from qiskit-terra==0.25.2.1->qiskit[visualization]) (0.12.2)\n",
            "Requirement already satisfied: pygments>=2.4 in /usr/local/lib/python3.10/dist-packages (from qiskit-terra==0.25.2.1->qiskit[visualization]) (2.16.1)\n",
            "Requirement already satisfied: ipykernel>=4.5.1 in /usr/local/lib/python3.10/dist-packages (from ipywidgets>=7.3.0->qiskit-terra==0.25.2.1->qiskit[visualization]) (5.5.6)\n",
            "Requirement already satisfied: ipython-genutils~=0.2.0 in /usr/local/lib/python3.10/dist-packages (from ipywidgets>=7.3.0->qiskit-terra==0.25.2.1->qiskit[visualization]) (0.2.0)\n",
            "Requirement already satisfied: traitlets>=4.3.1 in /usr/local/lib/python3.10/dist-packages (from ipywidgets>=7.3.0->qiskit-terra==0.25.2.1->qiskit[visualization]) (5.7.1)\n",
            "Requirement already satisfied: widgetsnbextension~=3.6.0 in /usr/local/lib/python3.10/dist-packages (from ipywidgets>=7.3.0->qiskit-terra==0.25.2.1->qiskit[visualization]) (3.6.6)\n",
            "Requirement already satisfied: ipython>=4.0.0 in /usr/local/lib/python3.10/dist-packages (from ipywidgets>=7.3.0->qiskit-terra==0.25.2.1->qiskit[visualization]) (7.34.0)\n",
            "Requirement already satisfied: jupyterlab-widgets>=1.0.0 in /usr/local/lib/python3.10/dist-packages (from ipywidgets>=7.3.0->qiskit-terra==0.25.2.1->qiskit[visualization]) (3.0.9)\n",
            "Requirement already satisfied: contourpy>=1.0.1 in /usr/local/lib/python3.10/dist-packages (from matplotlib>=3.3->qiskit-terra==0.25.2.1->qiskit[visualization]) (1.1.1)\n",
            "Requirement already satisfied: cycler>=0.10 in /usr/local/lib/python3.10/dist-packages (from matplotlib>=3.3->qiskit-terra==0.25.2.1->qiskit[visualization]) (0.12.0)\n",
            "Requirement already satisfied: fonttools>=4.22.0 in /usr/local/lib/python3.10/dist-packages (from matplotlib>=3.3->qiskit-terra==0.25.2.1->qiskit[visualization]) (4.43.0)\n",
            "Requirement already satisfied: kiwisolver>=1.0.1 in /usr/local/lib/python3.10/dist-packages (from matplotlib>=3.3->qiskit-terra==0.25.2.1->qiskit[visualization]) (1.4.5)\n",
            "Requirement already satisfied: packaging>=20.0 in /usr/local/lib/python3.10/dist-packages (from matplotlib>=3.3->qiskit-terra==0.25.2.1->qiskit[visualization]) (23.2)\n",
            "Requirement already satisfied: pyparsing>=2.3.1 in /usr/local/lib/python3.10/dist-packages (from matplotlib>=3.3->qiskit-terra==0.25.2.1->qiskit[visualization]) (3.1.1)\n",
            "Requirement already satisfied: six>=1.5 in /usr/local/lib/python3.10/dist-packages (from python-dateutil>=2.8.0->qiskit-terra==0.25.2.1->qiskit[visualization]) (1.16.0)\n",
            "Requirement already satisfied: pandas>=0.25 in /usr/local/lib/python3.10/dist-packages (from seaborn>=0.9.0->qiskit-terra==0.25.2.1->qiskit[visualization]) (1.5.3)\n",
            "Requirement already satisfied: pbr!=2.1.0,>=2.0.0 in /root/.local/lib/python3.10/site-packages (from stevedore>=3.0.0->qiskit-terra==0.25.2.1->qiskit[visualization]) (5.11.1)\n",
            "Requirement already satisfied: mpmath>=0.19 in /usr/local/lib/python3.10/dist-packages (from sympy>=1.3->qiskit-terra==0.25.2.1->qiskit[visualization]) (1.3.0)\n",
            "Requirement already satisfied: jupyter-client in /usr/local/lib/python3.10/dist-packages (from ipykernel>=4.5.1->ipywidgets>=7.3.0->qiskit-terra==0.25.2.1->qiskit[visualization]) (6.1.12)\n",
            "Requirement already satisfied: tornado>=4.2 in /usr/local/lib/python3.10/dist-packages (from ipykernel>=4.5.1->ipywidgets>=7.3.0->qiskit-terra==0.25.2.1->qiskit[visualization]) (6.3.2)\n",
            "Requirement already satisfied: setuptools>=18.5 in /usr/local/lib/python3.10/dist-packages (from ipython>=4.0.0->ipywidgets>=7.3.0->qiskit-terra==0.25.2.1->qiskit[visualization]) (67.7.2)\n",
            "Collecting jedi>=0.16 (from ipython>=4.0.0->ipywidgets>=7.3.0->qiskit-terra==0.25.2.1->qiskit[visualization])\n",
            "  Using cached jedi-0.19.1-py2.py3-none-any.whl (1.6 MB)\n",
            "Requirement already satisfied: decorator in /usr/local/lib/python3.10/dist-packages (from ipython>=4.0.0->ipywidgets>=7.3.0->qiskit-terra==0.25.2.1->qiskit[visualization]) (4.4.2)\n",
            "Requirement already satisfied: pickleshare in /usr/local/lib/python3.10/dist-packages (from ipython>=4.0.0->ipywidgets>=7.3.0->qiskit-terra==0.25.2.1->qiskit[visualization]) (0.7.5)\n",
            "Requirement already satisfied: prompt-toolkit!=3.0.0,!=3.0.1,<3.1.0,>=2.0.0 in /usr/local/lib/python3.10/dist-packages (from ipython>=4.0.0->ipywidgets>=7.3.0->qiskit-terra==0.25.2.1->qiskit[visualization]) (3.0.39)\n",
            "Requirement already satisfied: backcall in /usr/local/lib/python3.10/dist-packages (from ipython>=4.0.0->ipywidgets>=7.3.0->qiskit-terra==0.25.2.1->qiskit[visualization]) (0.2.0)\n",
            "Requirement already satisfied: matplotlib-inline in /usr/local/lib/python3.10/dist-packages (from ipython>=4.0.0->ipywidgets>=7.3.0->qiskit-terra==0.25.2.1->qiskit[visualization]) (0.1.6)\n",
            "Requirement already satisfied: pexpect>4.3 in /usr/local/lib/python3.10/dist-packages (from ipython>=4.0.0->ipywidgets>=7.3.0->qiskit-terra==0.25.2.1->qiskit[visualization]) (4.8.0)\n",
            "Requirement already satisfied: pytz>=2020.1 in /usr/local/lib/python3.10/dist-packages (from pandas>=0.25->seaborn>=0.9.0->qiskit-terra==0.25.2.1->qiskit[visualization]) (2023.3.post1)\n",
            "Requirement already satisfied: notebook>=4.4.1 in /usr/local/lib/python3.10/dist-packages (from widgetsnbextension~=3.6.0->ipywidgets>=7.3.0->qiskit-terra==0.25.2.1->qiskit[visualization]) (6.5.5)\n",
            "Requirement already satisfied: parso<0.9.0,>=0.8.3 in /usr/local/lib/python3.10/dist-packages (from jedi>=0.16->ipython>=4.0.0->ipywidgets>=7.3.0->qiskit-terra==0.25.2.1->qiskit[visualization]) (0.8.3)\n",
            "Requirement already satisfied: jinja2 in /usr/local/lib/python3.10/dist-packages (from notebook>=4.4.1->widgetsnbextension~=3.6.0->ipywidgets>=7.3.0->qiskit-terra==0.25.2.1->qiskit[visualization]) (3.1.2)\n",
            "Requirement already satisfied: pyzmq<25,>=17 in /usr/local/lib/python3.10/dist-packages (from notebook>=4.4.1->widgetsnbextension~=3.6.0->ipywidgets>=7.3.0->qiskit-terra==0.25.2.1->qiskit[visualization]) (23.2.1)\n",
            "Requirement already satisfied: argon2-cffi in /usr/local/lib/python3.10/dist-packages (from notebook>=4.4.1->widgetsnbextension~=3.6.0->ipywidgets>=7.3.0->qiskit-terra==0.25.2.1->qiskit[visualization]) (23.1.0)\n",
            "Requirement already satisfied: jupyter-core>=4.6.1 in /usr/local/lib/python3.10/dist-packages (from notebook>=4.4.1->widgetsnbextension~=3.6.0->ipywidgets>=7.3.0->qiskit-terra==0.25.2.1->qiskit[visualization]) (5.3.2)\n",
            "Requirement already satisfied: nbformat in /usr/local/lib/python3.10/dist-packages (from notebook>=4.4.1->widgetsnbextension~=3.6.0->ipywidgets>=7.3.0->qiskit-terra==0.25.2.1->qiskit[visualization]) (5.9.2)\n",
            "Requirement already satisfied: nbconvert>=5 in /usr/local/lib/python3.10/dist-packages (from notebook>=4.4.1->widgetsnbextension~=3.6.0->ipywidgets>=7.3.0->qiskit-terra==0.25.2.1->qiskit[visualization]) (6.5.4)\n",
            "Requirement already satisfied: nest-asyncio>=1.5 in /usr/local/lib/python3.10/dist-packages (from notebook>=4.4.1->widgetsnbextension~=3.6.0->ipywidgets>=7.3.0->qiskit-terra==0.25.2.1->qiskit[visualization]) (1.5.8)\n",
            "Requirement already satisfied: Send2Trash>=1.8.0 in /usr/local/lib/python3.10/dist-packages (from notebook>=4.4.1->widgetsnbextension~=3.6.0->ipywidgets>=7.3.0->qiskit-terra==0.25.2.1->qiskit[visualization]) (1.8.2)\n",
            "Requirement already satisfied: terminado>=0.8.3 in /usr/local/lib/python3.10/dist-packages (from notebook>=4.4.1->widgetsnbextension~=3.6.0->ipywidgets>=7.3.0->qiskit-terra==0.25.2.1->qiskit[visualization]) (0.17.1)\n",
            "Requirement already satisfied: prometheus-client in /usr/local/lib/python3.10/dist-packages (from notebook>=4.4.1->widgetsnbextension~=3.6.0->ipywidgets>=7.3.0->qiskit-terra==0.25.2.1->qiskit[visualization]) (0.17.1)\n",
            "Requirement already satisfied: nbclassic>=0.4.7 in /usr/local/lib/python3.10/dist-packages (from notebook>=4.4.1->widgetsnbextension~=3.6.0->ipywidgets>=7.3.0->qiskit-terra==0.25.2.1->qiskit[visualization]) (1.0.0)\n",
            "Requirement already satisfied: ptyprocess>=0.5 in /usr/local/lib/python3.10/dist-packages (from pexpect>4.3->ipython>=4.0.0->ipywidgets>=7.3.0->qiskit-terra==0.25.2.1->qiskit[visualization]) (0.7.0)\n",
            "Requirement already satisfied: wcwidth in /usr/local/lib/python3.10/dist-packages (from prompt-toolkit!=3.0.0,!=3.0.1,<3.1.0,>=2.0.0->ipython>=4.0.0->ipywidgets>=7.3.0->qiskit-terra==0.25.2.1->qiskit[visualization]) (0.2.8)\n",
            "Requirement already satisfied: platformdirs>=2.5 in /usr/local/lib/python3.10/dist-packages (from jupyter-core>=4.6.1->notebook>=4.4.1->widgetsnbextension~=3.6.0->ipywidgets>=7.3.0->qiskit-terra==0.25.2.1->qiskit[visualization]) (3.11.0)\n",
            "Requirement already satisfied: jupyter-server>=1.8 in /usr/local/lib/python3.10/dist-packages (from nbclassic>=0.4.7->notebook>=4.4.1->widgetsnbextension~=3.6.0->ipywidgets>=7.3.0->qiskit-terra==0.25.2.1->qiskit[visualization]) (1.24.0)\n",
            "Requirement already satisfied: notebook-shim>=0.2.3 in /usr/local/lib/python3.10/dist-packages (from nbclassic>=0.4.7->notebook>=4.4.1->widgetsnbextension~=3.6.0->ipywidgets>=7.3.0->qiskit-terra==0.25.2.1->qiskit[visualization]) (0.2.3)\n",
            "Requirement already satisfied: lxml in /usr/local/lib/python3.10/dist-packages (from nbconvert>=5->notebook>=4.4.1->widgetsnbextension~=3.6.0->ipywidgets>=7.3.0->qiskit-terra==0.25.2.1->qiskit[visualization]) (4.9.3)\n",
            "Requirement already satisfied: beautifulsoup4 in /usr/local/lib/python3.10/dist-packages (from nbconvert>=5->notebook>=4.4.1->widgetsnbextension~=3.6.0->ipywidgets>=7.3.0->qiskit-terra==0.25.2.1->qiskit[visualization]) (4.11.2)\n",
            "Requirement already satisfied: bleach in /usr/local/lib/python3.10/dist-packages (from nbconvert>=5->notebook>=4.4.1->widgetsnbextension~=3.6.0->ipywidgets>=7.3.0->qiskit-terra==0.25.2.1->qiskit[visualization]) (6.0.0)\n",
            "Requirement already satisfied: defusedxml in /usr/local/lib/python3.10/dist-packages (from nbconvert>=5->notebook>=4.4.1->widgetsnbextension~=3.6.0->ipywidgets>=7.3.0->qiskit-terra==0.25.2.1->qiskit[visualization]) (0.7.1)\n",
            "Requirement already satisfied: entrypoints>=0.2.2 in /usr/local/lib/python3.10/dist-packages (from nbconvert>=5->notebook>=4.4.1->widgetsnbextension~=3.6.0->ipywidgets>=7.3.0->qiskit-terra==0.25.2.1->qiskit[visualization]) (0.4)\n",
            "Requirement already satisfied: jupyterlab-pygments in /usr/local/lib/python3.10/dist-packages (from nbconvert>=5->notebook>=4.4.1->widgetsnbextension~=3.6.0->ipywidgets>=7.3.0->qiskit-terra==0.25.2.1->qiskit[visualization]) (0.2.2)\n",
            "Requirement already satisfied: MarkupSafe>=2.0 in /usr/local/lib/python3.10/dist-packages (from nbconvert>=5->notebook>=4.4.1->widgetsnbextension~=3.6.0->ipywidgets>=7.3.0->qiskit-terra==0.25.2.1->qiskit[visualization]) (2.1.3)\n",
            "Requirement already satisfied: mistune<2,>=0.8.1 in /usr/local/lib/python3.10/dist-packages (from nbconvert>=5->notebook>=4.4.1->widgetsnbextension~=3.6.0->ipywidgets>=7.3.0->qiskit-terra==0.25.2.1->qiskit[visualization]) (0.8.4)\n",
            "Requirement already satisfied: nbclient>=0.5.0 in /usr/local/lib/python3.10/dist-packages (from nbconvert>=5->notebook>=4.4.1->widgetsnbextension~=3.6.0->ipywidgets>=7.3.0->qiskit-terra==0.25.2.1->qiskit[visualization]) (0.8.0)\n",
            "Requirement already satisfied: pandocfilters>=1.4.1 in /usr/local/lib/python3.10/dist-packages (from nbconvert>=5->notebook>=4.4.1->widgetsnbextension~=3.6.0->ipywidgets>=7.3.0->qiskit-terra==0.25.2.1->qiskit[visualization]) (1.5.0)\n",
            "Requirement already satisfied: tinycss2 in /usr/local/lib/python3.10/dist-packages (from nbconvert>=5->notebook>=4.4.1->widgetsnbextension~=3.6.0->ipywidgets>=7.3.0->qiskit-terra==0.25.2.1->qiskit[visualization]) (1.2.1)\n",
            "Requirement already satisfied: fastjsonschema in /usr/local/lib/python3.10/dist-packages (from nbformat->notebook>=4.4.1->widgetsnbextension~=3.6.0->ipywidgets>=7.3.0->qiskit-terra==0.25.2.1->qiskit[visualization]) (2.18.1)\n",
            "Requirement already satisfied: jsonschema>=2.6 in /usr/local/lib/python3.10/dist-packages (from nbformat->notebook>=4.4.1->widgetsnbextension~=3.6.0->ipywidgets>=7.3.0->qiskit-terra==0.25.2.1->qiskit[visualization]) (4.19.1)\n",
            "Requirement already satisfied: argon2-cffi-bindings in /usr/local/lib/python3.10/dist-packages (from argon2-cffi->notebook>=4.4.1->widgetsnbextension~=3.6.0->ipywidgets>=7.3.0->qiskit-terra==0.25.2.1->qiskit[visualization]) (21.2.0)\n",
            "Requirement already satisfied: attrs>=22.2.0 in /usr/local/lib/python3.10/dist-packages (from jsonschema>=2.6->nbformat->notebook>=4.4.1->widgetsnbextension~=3.6.0->ipywidgets>=7.3.0->qiskit-terra==0.25.2.1->qiskit[visualization]) (23.1.0)\n",
            "Requirement already satisfied: jsonschema-specifications>=2023.03.6 in /usr/local/lib/python3.10/dist-packages (from jsonschema>=2.6->nbformat->notebook>=4.4.1->widgetsnbextension~=3.6.0->ipywidgets>=7.3.0->qiskit-terra==0.25.2.1->qiskit[visualization]) (2023.7.1)\n",
            "Requirement already satisfied: referencing>=0.28.4 in /usr/local/lib/python3.10/dist-packages (from jsonschema>=2.6->nbformat->notebook>=4.4.1->widgetsnbextension~=3.6.0->ipywidgets>=7.3.0->qiskit-terra==0.25.2.1->qiskit[visualization]) (0.30.2)\n",
            "Requirement already satisfied: rpds-py>=0.7.1 in /usr/local/lib/python3.10/dist-packages (from jsonschema>=2.6->nbformat->notebook>=4.4.1->widgetsnbextension~=3.6.0->ipywidgets>=7.3.0->qiskit-terra==0.25.2.1->qiskit[visualization]) (0.10.3)\n",
            "Requirement already satisfied: anyio<4,>=3.1.0 in /usr/local/lib/python3.10/dist-packages (from jupyter-server>=1.8->nbclassic>=0.4.7->notebook>=4.4.1->widgetsnbextension~=3.6.0->ipywidgets>=7.3.0->qiskit-terra==0.25.2.1->qiskit[visualization]) (3.7.1)\n",
            "Requirement already satisfied: websocket-client in /usr/local/lib/python3.10/dist-packages (from jupyter-server>=1.8->nbclassic>=0.4.7->notebook>=4.4.1->widgetsnbextension~=3.6.0->ipywidgets>=7.3.0->qiskit-terra==0.25.2.1->qiskit[visualization]) (1.6.3)\n",
            "Requirement already satisfied: cffi>=1.0.1 in /usr/local/lib/python3.10/dist-packages (from argon2-cffi-bindings->argon2-cffi->notebook>=4.4.1->widgetsnbextension~=3.6.0->ipywidgets>=7.3.0->qiskit-terra==0.25.2.1->qiskit[visualization]) (1.16.0)\n",
            "Requirement already satisfied: soupsieve>1.2 in /usr/local/lib/python3.10/dist-packages (from beautifulsoup4->nbconvert>=5->notebook>=4.4.1->widgetsnbextension~=3.6.0->ipywidgets>=7.3.0->qiskit-terra==0.25.2.1->qiskit[visualization]) (2.5)\n",
            "Requirement already satisfied: webencodings in /usr/local/lib/python3.10/dist-packages (from bleach->nbconvert>=5->notebook>=4.4.1->widgetsnbextension~=3.6.0->ipywidgets>=7.3.0->qiskit-terra==0.25.2.1->qiskit[visualization]) (0.5.1)\n",
            "Requirement already satisfied: idna>=2.8 in /usr/local/lib/python3.10/dist-packages (from anyio<4,>=3.1.0->jupyter-server>=1.8->nbclassic>=0.4.7->notebook>=4.4.1->widgetsnbextension~=3.6.0->ipywidgets>=7.3.0->qiskit-terra==0.25.2.1->qiskit[visualization]) (3.4)\n",
            "Requirement already satisfied: sniffio>=1.1 in /usr/local/lib/python3.10/dist-packages (from anyio<4,>=3.1.0->jupyter-server>=1.8->nbclassic>=0.4.7->notebook>=4.4.1->widgetsnbextension~=3.6.0->ipywidgets>=7.3.0->qiskit-terra==0.25.2.1->qiskit[visualization]) (1.3.0)\n",
            "Requirement already satisfied: exceptiongroup in /usr/local/lib/python3.10/dist-packages (from anyio<4,>=3.1.0->jupyter-server>=1.8->nbclassic>=0.4.7->notebook>=4.4.1->widgetsnbextension~=3.6.0->ipywidgets>=7.3.0->qiskit-terra==0.25.2.1->qiskit[visualization]) (1.1.3)\n",
            "Requirement already satisfied: pycparser in /usr/local/lib/python3.10/dist-packages (from cffi>=1.0.1->argon2-cffi-bindings->argon2-cffi->notebook>=4.4.1->widgetsnbextension~=3.6.0->ipywidgets>=7.3.0->qiskit-terra==0.25.2.1->qiskit[visualization]) (2.21)\n",
            "Installing collected packages: stevedore, jedi, dill, qiskit-terra, qiskit\n",
            "Successfully installed dill-0.3.7 jedi-0.19.1 qiskit-0.44.2 qiskit-terra-0.25.2.1 stevedore-5.1.0\n"
          ]
        },
        {
          "output_type": "display_data",
          "data": {
            "application/vnd.colab-display-data+json": {
              "pip_warning": {
                "packages": [
                  "jedi"
                ]
              }
            }
          },
          "metadata": {}
        }
      ],
      "source": [
        "!pip install qiskit[visualization] --user"
      ]
    },
    {
      "cell_type": "code",
      "execution_count": null,
      "metadata": {
        "id": "N_dRx5ejw0r0"
      },
      "outputs": [],
      "source": [
        "!pip install qiskit-aer --user"
      ]
    },
    {
      "cell_type": "markdown",
      "metadata": {
        "id": "bWh7-z2nw0r0"
      },
      "source": [
        "__*Restart the kernel*__ (check \"Kernel\" menu) to apply the changes to the current notebook."
      ]
    },
    {
      "cell_type": "markdown",
      "metadata": {
        "id": "-Xs0_hh0w0r0"
      },
      "source": [
        "<hr id=\"tips\">\n",
        "\n",
        "### Tips\n",
        "\n",
        "_Any terminal/shell command can be executed in the notebook cells by putting an exclamation mark (!) at the beginning of the command._\n",
        "\n",
        "_$\\rightarrow$ To update Qiskit to the latest version, execute the following command in a code cell_\n",
        "\n",
        "    !pip install -U qiskit --user\n",
        "    \n",
        "_$\\rightarrow$ To uninstall Qiskit, execute the following command in a code cell_\n",
        "\n",
        "    !pip uninstall qiskit"
      ]
    },
    {
      "cell_type": "code",
      "execution_count": null,
      "metadata": {
        "id": "w6ejnJIyw0r0"
      },
      "outputs": [],
      "source": [
        "#!pip install -U qiskit --user\n",
        "#!pip uninstall qiskit"
      ]
    },
    {
      "cell_type": "markdown",
      "metadata": {
        "id": "1ZRQKXRKw0r1"
      },
      "source": [
        "<hr id=\"test\">\n",
        "\n",
        "### Execute an example quantum program\n"
      ]
    },
    {
      "cell_type": "markdown",
      "metadata": {
        "id": "YoonYbgWw0r1"
      },
      "source": [
        "1) Create a quantum circuit"
      ]
    },
    {
      "cell_type": "code",
      "execution_count": null,
      "metadata": {
        "id": "AFknJ_nWw0r1"
      },
      "outputs": [],
      "source": [
        "# import the objects from qiskit\n",
        "from qiskit import QuantumRegister, ClassicalRegister, QuantumCircuit, execute, Aer\n",
        "from random import randrange\n",
        "\n",
        "# create a quantum circuit and its register objects\n",
        "qreg = QuantumRegister(2) # quantum register with two quantum bits\n",
        "creg = ClassicalRegister(2) # classical register with two classical bit\n",
        "circuit = QuantumCircuit(qreg,creg) # quantum circuit composed by a quantum register and a classical register\n",
        "\n",
        "# apply a Hadamard gate to the first qubit\n",
        "circuit.h(qreg[0])\n",
        "\n",
        "# set the second qubit to state |1>\n",
        "circuit.x(qreg[1])\n",
        "\n",
        "# apply CNOT(first_qubit,second_qubit)\n",
        "circuit.cx(qreg[0],qreg[1])\n",
        "\n",
        "# measure the both qubits\n",
        "circuit.measure(qreg,creg)\n",
        "\n",
        "print(\"The execution of the cell was completed, and the circuit was created :)\")"
      ]
    },
    {
      "cell_type": "markdown",
      "metadata": {
        "id": "KsQauhLtw0r1"
      },
      "source": [
        "2) Draw the circuit\n",
        "\n",
        "_Run the cell once more if the figure is not shown_"
      ]
    },
    {
      "cell_type": "code",
      "execution_count": null,
      "metadata": {
        "id": "rpjjYNdVw0r1"
      },
      "outputs": [],
      "source": [
        "# draw circuit\n",
        "circuit.draw(output='mpl')\n",
        "\n",
        "# the output will be a \"matplotlib.Figure\" object"
      ]
    },
    {
      "cell_type": "markdown",
      "metadata": {
        "id": "2Bjy6B5-w0r1"
      },
      "source": [
        "3) Execute the circuit 1024 times in the local simulator and print the observed the outcomes"
      ]
    },
    {
      "cell_type": "code",
      "execution_count": null,
      "metadata": {
        "id": "qLJ9yNnjw0r1"
      },
      "outputs": [],
      "source": [
        "## execute the circuit 1024 times\n",
        "job = execute(circuit,Aer.get_backend('qasm_simulator'),shots=1024)\n",
        "# get the result\n",
        "counts = job.result().get_counts(circuit)\n",
        "print(counts)"
      ]
    },
    {
      "cell_type": "markdown",
      "metadata": {
        "id": "gyZRZdFvw0r1"
      },
      "source": [
        "<hr id=\"complete\">\n",
        "\n",
        "### Complete test\n",
        "\n",
        "Here we put all methods and objects of Qiskit used througout this tutorial (see [Qiskit: Quick Reference](Q01_Qiskit_Reference.ipynb) for a complete list).\n",
        "\n",
        "By running the cell below, you should be able to test whether your Qiskit installation is ready for our tutorial.\n",
        "\n",
        "_It was tested with Qiskit 0.37.0 on July 10, 2022._"
      ]
    },
    {
      "cell_type": "code",
      "execution_count": null,
      "metadata": {
        "id": "_oLGFD53w0r1"
      },
      "outputs": [],
      "source": [
        "from qiskit import QuantumRegister, ClassicalRegister, QuantumCircuit, execute, Aer\n",
        "from math import pi\n",
        "\n",
        "# A quantum circuit is composed by a quantum and a classical register in Qiskit\n",
        "q = QuantumRegister(5,\"q\") # this quantum register has 5 qubits\n",
        "c = ClassicalRegister(5,\"c\") # this classical register has 5 classical bits\n",
        "\n",
        "qc = QuantumCircuit(q,c) # a quantum circuit with quantum and classical registers q and c\n",
        "\n",
        "qc.x(q[2]) # apply x-gate to the qubit \"q[2]\" of the quantum circuit \"qc\"\n",
        "qc.z(q[4]) # apply z-gate to the qubit \"q[4]\" of the quantum circuit \"qc\"\n",
        "qc.h(q[1]) # apply h-gate to the qubit \"q[1]\" of the quantum circuit \"qc\"\n",
        "\n",
        "a = pi/7\n",
        "qc.ry(2*a,q[3]) # apply ry-gate with the specified angle to the qubit \"q[3]\" of the quantum circuit \"qc\"\n",
        "\n",
        "qc.cx(q[1],q[0]) # apply cx-gate to the qubits \"q[1]\" and \"q[0]\" of the quantum circuit \"qc\"\n",
        "\n",
        "qc.cu(2*a,0,0,0,q[1],q[0]) # apply controlled rotation operator with the specified angle\n",
        "                          #  to the qubits \"q[1]\" and \"q[0]\" of the quantum circuit \"qc\"\n",
        "\n",
        "qc.ccx(q[2],q[1],q[0]) # apply ccx-gate to the qubits \"q[2]\", \"q[1]\", and \"q[0]\" of the quantum circuit \"qc\"\n",
        "\n",
        "qc.barrier()\n",
        "\n",
        "qc.measure(q[0],c[3]) # measure q[0] and write the output on c[3]\n",
        "qc.measure(q[1],c[1]) # measure q[1] and write the output on c[1]\n",
        "qc.measure(q[2],c[4]) # measure q[2] and write the output on c[4]\n",
        "qc.measure(q[3],c[0]) # measure q[3] and write the output on c[0]\n",
        "qc.measure(q[4],c[2]) # measure q[4] and write the output on c[2]\n",
        "\n",
        "display(qc.draw())\n",
        "\n",
        "qc.barrier()\n",
        "\n",
        "qc.h(q[0]).c_if(c,5)\n",
        "qc.x(q[0]).c_if(c,3)\n",
        "qc.z(q[0]).c_if(c,1)\n",
        "\n",
        "for i in range(5):\n",
        "    if i % 2 ==0: qc.h(q[i])\n",
        "    else: qc.x(q[i])\n",
        "\n",
        "b = 3*pi/11\n",
        "qc.cu(2*b,0,0,0,q[1],q[0])\n",
        "\n",
        "display(qc.draw(output='mpl',reverse_bits=True))\n",
        "\n",
        "job = execute(qc,Aer.get_backend('qasm_simulator'),shots=1000)\n",
        "counts = job.result().get_counts(qc)\n",
        "print(\"measurement outcomes are:\",counts)\n",
        "print()\n",
        "\n",
        "q = QuantumRegister(2,\"q\")\n",
        "c = ClassicalRegister(2,\"c\")\n",
        "\n",
        "qc = QuantumCircuit(q,c)\n",
        "\n",
        "qc.h(q[0])\n",
        "qc.ry(a,q[0])\n",
        "qc.x(q[1])\n",
        "qc.cx(q[0],q[1])\n",
        "\n",
        "job = execute(qc,Aer.get_backend('unitary_simulator'),shots=1,optimization_level=0)\n",
        "precision = 3\n",
        "current_unitary=job.result().get_unitary(qc,precision).data\n",
        "\n",
        "print(\"unitary matrix is\")\n",
        "print(current_unitary)\n",
        "print()\n",
        "\n",
        "job = execute(qc,Aer.get_backend('statevector_simulator'),optimization_level=0)\n",
        "precision = 3\n",
        "current_quantum_state=job.result().get_statevector(qc,precision).data\n",
        "print(\"quantum state is\")\n",
        "for val in current_quantum_state:\n",
        "    print(str(val.real)+\"+\"+str(val.imag)+\"j\")\n",
        "\n",
        "print()\n",
        "print(\"All looks fine :-)\")"
      ]
    }
  ],
  "metadata": {
    "kernelspec": {
      "display_name": "Python 3 (ipykernel)",
      "language": "python",
      "name": "python3"
    },
    "language_info": {
      "codemirror_mode": {
        "name": "ipython",
        "version": 3
      },
      "file_extension": ".py",
      "mimetype": "text/x-python",
      "name": "python",
      "nbconvert_exporter": "python",
      "pygments_lexer": "ipython3",
      "version": "3.11.4"
    },
    "colab": {
      "provenance": [],
      "include_colab_link": true
    }
  },
  "nbformat": 4,
  "nbformat_minor": 0
}